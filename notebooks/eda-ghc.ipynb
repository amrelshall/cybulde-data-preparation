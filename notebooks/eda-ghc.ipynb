{
 "cells": [
  {
   "cell_type": "code",
   "execution_count": 1,
   "id": "907b624b-4a88-4892-8cf5-05273f436899",
   "metadata": {
    "tags": []
   },
   "outputs": [],
   "source": [
    "!cd ../"
   ]
  },
  {
   "cell_type": "code",
   "execution_count": 2,
   "id": "b3ae9782-a884-4d15-9c86-f234bb2fbe40",
   "metadata": {
    "tags": []
   },
   "outputs": [],
   "source": [
    "!cd G:/The-project/cybulde-data-preparation/data"
   ]
  },
  {
   "cell_type": "code",
   "execution_count": 3,
   "id": "082ecca8-b0cd-4c23-b8c6-3def38dbaf79",
   "metadata": {
    "tags": []
   },
   "outputs": [],
   "source": [
    "!cd G:\\The-project\\cybulde-data-preparation\\data\n"
   ]
  },
  {
   "cell_type": "code",
   "execution_count": null,
   "id": "a688c2ce-de13-4bcb-8888-3792527251ca",
   "metadata": {},
   "outputs": [],
   "source": []
  }
 ],
 "metadata": {
  "kernelspec": {
   "display_name": "Python 3 (ipykernel)",
   "language": "python",
   "name": "python3"
  },
  "language_info": {
   "codemirror_mode": {
    "name": "ipython",
    "version": 3
   },
   "file_extension": ".py",
   "mimetype": "text/x-python",
   "name": "python",
   "nbconvert_exporter": "python",
   "pygments_lexer": "ipython3",
   "version": "3.11.5"
  }
 },
 "nbformat": 4,
 "nbformat_minor": 5
}
